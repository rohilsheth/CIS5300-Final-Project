{
 "cells": [
  {
   "cell_type": "code",
   "execution_count": 14,
   "id": "16d5d2f0",
   "metadata": {},
   "outputs": [],
   "source": [
    "import numpy as np\n",
    "import pandas as pd\n",
    "from pandas import DataFrame, Series\n",
    "import sklearn\n",
    "import sklearn.metrics as metrics"
   ]
  },
  {
   "cell_type": "markdown",
   "id": "6cbd9853",
   "metadata": {},
   "source": [
    "# Evaluation Code"
   ]
  },
  {
   "cell_type": "code",
   "execution_count": 4,
   "id": "8f0ae9e9",
   "metadata": {},
   "outputs": [],
   "source": [
    "import requests\n",
    "url = 'https://raw.githubusercontent.com/axnyang/CS401/master/data/train_lyrics.csv'\n",
    "res = requests.get(url, allow_redirects=True)\n",
    "with open('test_data.csv','wb') as file:\n",
    "    file.write(res.content)\n",
    "test_data = pd.read_csv('test_data.csv')"
   ]
  },
  {
   "cell_type": "code",
   "execution_count": 21,
   "id": "ba7b4002",
   "metadata": {},
   "outputs": [],
   "source": [
    "test_data = test_data[test_data.labels != -1].reset_index(drop=True)"
   ]
  },
  {
   "cell_type": "code",
   "execution_count": 25,
   "id": "5e9c3052",
   "metadata": {},
   "outputs": [],
   "source": [
    "y_test= list(test_data.labels)\n",
    "y_pred = [1 for _ in range(len(y_test))]"
   ]
  },
  {
   "cell_type": "code",
   "execution_count": 26,
   "id": "b71af26f",
   "metadata": {},
   "outputs": [
    {
     "data": {
      "text/plain": [
       "0.7164179104477612"
      ]
     },
     "execution_count": 26,
     "metadata": {},
     "output_type": "execute_result"
    }
   ],
   "source": [
    "metrics.f1_score(y_test, y_pred,average='binary')"
   ]
  },
  {
   "cell_type": "code",
   "execution_count": 27,
   "id": "5015a3e9",
   "metadata": {},
   "outputs": [],
   "source": [
    "def score(y_pred, y_test):\n",
    "    return metrics.f1_score(y_test, y_pred,average='binary')"
   ]
  },
  {
   "cell_type": "markdown",
   "id": "60bc11e7",
   "metadata": {},
   "source": [
    "# Simple Baseline"
   ]
  },
  {
   "cell_type": "code",
   "execution_count": 132,
   "id": "ff8287d4",
   "metadata": {},
   "outputs": [],
   "source": [
    "data = pd.read_csv(\"530finalprojectdata/530datasetV2_train_sample.csv\")"
   ]
  },
  {
   "cell_type": "code",
   "execution_count": 133,
   "id": "cb83e4c9",
   "metadata": {},
   "outputs": [
    {
     "data": {
      "text/html": [
       "<div>\n",
       "<style scoped>\n",
       "    .dataframe tbody tr th:only-of-type {\n",
       "        vertical-align: middle;\n",
       "    }\n",
       "\n",
       "    .dataframe tbody tr th {\n",
       "        vertical-align: top;\n",
       "    }\n",
       "\n",
       "    .dataframe thead th {\n",
       "        text-align: right;\n",
       "    }\n",
       "</style>\n",
       "<table border=\"1\" class=\"dataframe\">\n",
       "  <thead>\n",
       "    <tr style=\"text-align: right;\">\n",
       "      <th></th>\n",
       "      <th>Unnamed: 0.1</th>\n",
       "      <th>Unnamed: 0</th>\n",
       "      <th>Name</th>\n",
       "      <th>Song Title</th>\n",
       "      <th>Publication Date</th>\n",
       "      <th>Gender</th>\n",
       "      <th>Genre</th>\n",
       "      <th>Lyrics</th>\n",
       "    </tr>\n",
       "  </thead>\n",
       "  <tbody>\n",
       "    <tr>\n",
       "      <th>0</th>\n",
       "      <td>0</td>\n",
       "      <td>78618</td>\n",
       "      <td>Depeche Mode</td>\n",
       "      <td>And Then...</td>\n",
       "      <td>2003-03-03</td>\n",
       "      <td>Male</td>\n",
       "      <td>NaN</td>\n",
       "      <td>Let&amp;apos;s take a map of the world&lt;br&gt;Tear it ...</td>\n",
       "    </tr>\n",
       "    <tr>\n",
       "      <th>1</th>\n",
       "      <td>1</td>\n",
       "      <td>10575</td>\n",
       "      <td>Anathema</td>\n",
       "      <td>Your Possible Pasts</td>\n",
       "      <td>1998-08-11</td>\n",
       "      <td>Mixed</td>\n",
       "      <td>NaN</td>\n",
       "      <td>They flutter behind you, your possible pasts&lt;b...</td>\n",
       "    </tr>\n",
       "    <tr>\n",
       "      <th>2</th>\n",
       "      <td>2</td>\n",
       "      <td>330145</td>\n",
       "      <td>They Might Be Giants</td>\n",
       "      <td>There</td>\n",
       "      <td>2013-03-10</td>\n",
       "      <td>Male</td>\n",
       "      <td>NaN</td>\n",
       "      <td>There!&lt;br&gt;Near the borderline&lt;br&gt;Right between...</td>\n",
       "    </tr>\n",
       "    <tr>\n",
       "      <th>3</th>\n",
       "      <td>3</td>\n",
       "      <td>267149</td>\n",
       "      <td>Showaddywaddy</td>\n",
       "      <td>Multiplication</td>\n",
       "      <td>2009-10-12</td>\n",
       "      <td>Male</td>\n",
       "      <td>NaN</td>\n",
       "      <td>When you see a gentleman bee, &lt;br&gt;&amp;apos;Round ...</td>\n",
       "    </tr>\n",
       "    <tr>\n",
       "      <th>4</th>\n",
       "      <td>4</td>\n",
       "      <td>53230</td>\n",
       "      <td>Caetano Veloso</td>\n",
       "      <td>Jasper</td>\n",
       "      <td>2015-04-02</td>\n",
       "      <td>Male</td>\n",
       "      <td>NaN</td>\n",
       "      <td>Time is as weak as water&lt;br&gt;I&amp;apos;m kneeling ...</td>\n",
       "    </tr>\n",
       "    <tr>\n",
       "      <th>...</th>\n",
       "      <td>...</td>\n",
       "      <td>...</td>\n",
       "      <td>...</td>\n",
       "      <td>...</td>\n",
       "      <td>...</td>\n",
       "      <td>...</td>\n",
       "      <td>...</td>\n",
       "      <td>...</td>\n",
       "    </tr>\n",
       "    <tr>\n",
       "      <th>996</th>\n",
       "      <td>996</td>\n",
       "      <td>300521</td>\n",
       "      <td>Test Icicles</td>\n",
       "      <td>What's Your Damage</td>\n",
       "      <td>2006-01-15</td>\n",
       "      <td>Male</td>\n",
       "      <td>NaN</td>\n",
       "      <td>Did you ever think about the words&lt;br&gt;Coming o...</td>\n",
       "    </tr>\n",
       "    <tr>\n",
       "      <th>997</th>\n",
       "      <td>997</td>\n",
       "      <td>160344</td>\n",
       "      <td>Josh Groban</td>\n",
       "      <td>Below The Line</td>\n",
       "      <td>2013-02-01</td>\n",
       "      <td>Male</td>\n",
       "      <td>NaN</td>\n",
       "      <td>Big world&lt;br&gt;Please do not swallow us up&lt;br&gt;Pl...</td>\n",
       "    </tr>\n",
       "    <tr>\n",
       "      <th>998</th>\n",
       "      <td>998</td>\n",
       "      <td>221920</td>\n",
       "      <td>Nicolai Dunger</td>\n",
       "      <td>All The Love, Days And Tears</td>\n",
       "      <td>2001-01-30</td>\n",
       "      <td>Male</td>\n",
       "      <td>NaN</td>\n",
       "      <td>All the love, all the love we shared&lt;br&gt;is all...</td>\n",
       "    </tr>\n",
       "    <tr>\n",
       "      <th>999</th>\n",
       "      <td>999</td>\n",
       "      <td>79107</td>\n",
       "      <td>Day Of Fire</td>\n",
       "      <td>Through The Fire</td>\n",
       "      <td>2001-09-25</td>\n",
       "      <td>Male</td>\n",
       "      <td>NaN</td>\n",
       "      <td>Walk in the flame again,&lt;br&gt;I&amp;apos;ll be there...</td>\n",
       "    </tr>\n",
       "    <tr>\n",
       "      <th>1000</th>\n",
       "      <td>1000</td>\n",
       "      <td>58761</td>\n",
       "      <td>Client</td>\n",
       "      <td>Lights Go Out</td>\n",
       "      <td>2007-03-22</td>\n",
       "      <td>Female</td>\n",
       "      <td>NaN</td>\n",
       "      <td>I&amp;apos;ve got my red dress on&lt;br&gt;And my high h...</td>\n",
       "    </tr>\n",
       "  </tbody>\n",
       "</table>\n",
       "<p>1001 rows × 8 columns</p>\n",
       "</div>"
      ],
      "text/plain": [
       "      Unnamed: 0.1  Unnamed: 0                  Name  \\\n",
       "0                0       78618          Depeche Mode   \n",
       "1                1       10575              Anathema   \n",
       "2                2      330145  They Might Be Giants   \n",
       "3                3      267149         Showaddywaddy   \n",
       "4                4       53230        Caetano Veloso   \n",
       "...            ...         ...                   ...   \n",
       "996            996      300521          Test Icicles   \n",
       "997            997      160344           Josh Groban   \n",
       "998            998      221920        Nicolai Dunger   \n",
       "999            999       79107           Day Of Fire   \n",
       "1000          1000       58761                Client   \n",
       "\n",
       "                        Song Title Publication Date  Gender Genre  \\\n",
       "0                      And Then...       2003-03-03    Male   NaN   \n",
       "1              Your Possible Pasts       1998-08-11   Mixed   NaN   \n",
       "2                            There       2013-03-10    Male   NaN   \n",
       "3                   Multiplication       2009-10-12    Male   NaN   \n",
       "4                           Jasper       2015-04-02    Male   NaN   \n",
       "...                            ...              ...     ...   ...   \n",
       "996             What's Your Damage       2006-01-15    Male   NaN   \n",
       "997                 Below The Line       2013-02-01    Male   NaN   \n",
       "998   All The Love, Days And Tears       2001-01-30    Male   NaN   \n",
       "999               Through The Fire       2001-09-25    Male   NaN   \n",
       "1000                 Lights Go Out       2007-03-22  Female   NaN   \n",
       "\n",
       "                                                 Lyrics  \n",
       "0     Let&apos;s take a map of the world<br>Tear it ...  \n",
       "1     They flutter behind you, your possible pasts<b...  \n",
       "2     There!<br>Near the borderline<br>Right between...  \n",
       "3     When you see a gentleman bee, <br>&apos;Round ...  \n",
       "4     Time is as weak as water<br>I&apos;m kneeling ...  \n",
       "...                                                 ...  \n",
       "996   Did you ever think about the words<br>Coming o...  \n",
       "997   Big world<br>Please do not swallow us up<br>Pl...  \n",
       "998   All the love, all the love we shared<br>is all...  \n",
       "999   Walk in the flame again,<br>I&apos;ll be there...  \n",
       "1000  I&apos;ve got my red dress on<br>And my high h...  \n",
       "\n",
       "[1001 rows x 8 columns]"
      ]
     },
     "execution_count": 133,
     "metadata": {},
     "output_type": "execute_result"
    }
   ],
   "source": [
    "data"
   ]
  },
  {
   "cell_type": "code",
   "execution_count": 134,
   "id": "eabe8fef",
   "metadata": {},
   "outputs": [],
   "source": [
    "data['Lyrics'] = data.Lyrics.apply(lambda x : x.replace(\"&apos;\",\"'\"))"
   ]
  },
  {
   "cell_type": "code",
   "execution_count": 135,
   "id": "2a6b5739",
   "metadata": {},
   "outputs": [],
   "source": [
    "data = data.drop('Unnamed: 0.1',axis=1).rename({\"Unnamed: 0\": \"id\"},axis=1)"
   ]
  },
  {
   "cell_type": "code",
   "execution_count": 136,
   "id": "c4a3373a",
   "metadata": {},
   "outputs": [],
   "source": [
    "data['Lyrics'] = data.Lyrics.apply(lambda x: x.lower().split(\"<br>\"))\n",
    "data = data.explode('Lyrics')\n",
    "data = data[data.Lyrics != ''].reset_index(drop=True)"
   ]
  },
  {
   "cell_type": "code",
   "execution_count": 137,
   "id": "629fa494",
   "metadata": {},
   "outputs": [
    {
     "data": {
      "text/html": [
       "<div>\n",
       "<style scoped>\n",
       "    .dataframe tbody tr th:only-of-type {\n",
       "        vertical-align: middle;\n",
       "    }\n",
       "\n",
       "    .dataframe tbody tr th {\n",
       "        vertical-align: top;\n",
       "    }\n",
       "\n",
       "    .dataframe thead th {\n",
       "        text-align: right;\n",
       "    }\n",
       "</style>\n",
       "<table border=\"1\" class=\"dataframe\">\n",
       "  <thead>\n",
       "    <tr style=\"text-align: right;\">\n",
       "      <th></th>\n",
       "      <th>id</th>\n",
       "      <th>Name</th>\n",
       "      <th>Song Title</th>\n",
       "      <th>Publication Date</th>\n",
       "      <th>Gender</th>\n",
       "      <th>Genre</th>\n",
       "      <th>Lyrics</th>\n",
       "    </tr>\n",
       "  </thead>\n",
       "  <tbody>\n",
       "    <tr>\n",
       "      <th>0</th>\n",
       "      <td>78618</td>\n",
       "      <td>Depeche Mode</td>\n",
       "      <td>And Then...</td>\n",
       "      <td>2003-03-03</td>\n",
       "      <td>Male</td>\n",
       "      <td>NaN</td>\n",
       "      <td>let's take a map of the world</td>\n",
       "    </tr>\n",
       "    <tr>\n",
       "      <th>1</th>\n",
       "      <td>78618</td>\n",
       "      <td>Depeche Mode</td>\n",
       "      <td>And Then...</td>\n",
       "      <td>2003-03-03</td>\n",
       "      <td>Male</td>\n",
       "      <td>NaN</td>\n",
       "      <td>tear it into pieces</td>\n",
       "    </tr>\n",
       "    <tr>\n",
       "      <th>2</th>\n",
       "      <td>78618</td>\n",
       "      <td>Depeche Mode</td>\n",
       "      <td>And Then...</td>\n",
       "      <td>2003-03-03</td>\n",
       "      <td>Male</td>\n",
       "      <td>NaN</td>\n",
       "      <td>all of the boys and the girls</td>\n",
       "    </tr>\n",
       "    <tr>\n",
       "      <th>3</th>\n",
       "      <td>78618</td>\n",
       "      <td>Depeche Mode</td>\n",
       "      <td>And Then...</td>\n",
       "      <td>2003-03-03</td>\n",
       "      <td>Male</td>\n",
       "      <td>NaN</td>\n",
       "      <td>will see how easy it is</td>\n",
       "    </tr>\n",
       "    <tr>\n",
       "      <th>4</th>\n",
       "      <td>78618</td>\n",
       "      <td>Depeche Mode</td>\n",
       "      <td>And Then...</td>\n",
       "      <td>2003-03-03</td>\n",
       "      <td>Male</td>\n",
       "      <td>NaN</td>\n",
       "      <td>to put it all down and start again</td>\n",
       "    </tr>\n",
       "    <tr>\n",
       "      <th>...</th>\n",
       "      <td>...</td>\n",
       "      <td>...</td>\n",
       "      <td>...</td>\n",
       "      <td>...</td>\n",
       "      <td>...</td>\n",
       "      <td>...</td>\n",
       "      <td>...</td>\n",
       "    </tr>\n",
       "    <tr>\n",
       "      <th>34841</th>\n",
       "      <td>58761</td>\n",
       "      <td>Client</td>\n",
       "      <td>Lights Go Out</td>\n",
       "      <td>2007-03-22</td>\n",
       "      <td>Female</td>\n",
       "      <td>NaN</td>\n",
       "      <td>i stand guilty, loving you again</td>\n",
       "    </tr>\n",
       "    <tr>\n",
       "      <th>34842</th>\n",
       "      <td>58761</td>\n",
       "      <td>Client</td>\n",
       "      <td>Lights Go Out</td>\n",
       "      <td>2007-03-22</td>\n",
       "      <td>Female</td>\n",
       "      <td>NaN</td>\n",
       "      <td>no mercy, no pleasure, no sin</td>\n",
       "    </tr>\n",
       "    <tr>\n",
       "      <th>34843</th>\n",
       "      <td>58761</td>\n",
       "      <td>Client</td>\n",
       "      <td>Lights Go Out</td>\n",
       "      <td>2007-03-22</td>\n",
       "      <td>Female</td>\n",
       "      <td>NaN</td>\n",
       "      <td>i stand guilty, loving you again</td>\n",
       "    </tr>\n",
       "    <tr>\n",
       "      <th>34844</th>\n",
       "      <td>58761</td>\n",
       "      <td>Client</td>\n",
       "      <td>Lights Go Out</td>\n",
       "      <td>2007-03-22</td>\n",
       "      <td>Female</td>\n",
       "      <td>NaN</td>\n",
       "      <td>no mercy, no pleasure, no sin</td>\n",
       "    </tr>\n",
       "    <tr>\n",
       "      <th>34845</th>\n",
       "      <td>58761</td>\n",
       "      <td>Client</td>\n",
       "      <td>Lights Go Out</td>\n",
       "      <td>2007-03-22</td>\n",
       "      <td>Female</td>\n",
       "      <td>NaN</td>\n",
       "      <td>lights go out, here i go again</td>\n",
       "    </tr>\n",
       "  </tbody>\n",
       "</table>\n",
       "<p>34846 rows × 7 columns</p>\n",
       "</div>"
      ],
      "text/plain": [
       "          id          Name     Song Title Publication Date  Gender Genre  \\\n",
       "0      78618  Depeche Mode    And Then...       2003-03-03    Male   NaN   \n",
       "1      78618  Depeche Mode    And Then...       2003-03-03    Male   NaN   \n",
       "2      78618  Depeche Mode    And Then...       2003-03-03    Male   NaN   \n",
       "3      78618  Depeche Mode    And Then...       2003-03-03    Male   NaN   \n",
       "4      78618  Depeche Mode    And Then...       2003-03-03    Male   NaN   \n",
       "...      ...           ...            ...              ...     ...   ...   \n",
       "34841  58761        Client  Lights Go Out       2007-03-22  Female   NaN   \n",
       "34842  58761        Client  Lights Go Out       2007-03-22  Female   NaN   \n",
       "34843  58761        Client  Lights Go Out       2007-03-22  Female   NaN   \n",
       "34844  58761        Client  Lights Go Out       2007-03-22  Female   NaN   \n",
       "34845  58761        Client  Lights Go Out       2007-03-22  Female   NaN   \n",
       "\n",
       "                                   Lyrics  \n",
       "0           let's take a map of the world  \n",
       "1                     tear it into pieces  \n",
       "2           all of the boys and the girls  \n",
       "3                 will see how easy it is  \n",
       "4      to put it all down and start again  \n",
       "...                                   ...  \n",
       "34841    i stand guilty, loving you again  \n",
       "34842       no mercy, no pleasure, no sin  \n",
       "34843    i stand guilty, loving you again  \n",
       "34844       no mercy, no pleasure, no sin  \n",
       "34845      lights go out, here i go again  \n",
       "\n",
       "[34846 rows x 7 columns]"
      ]
     },
     "execution_count": 137,
     "metadata": {},
     "output_type": "execute_result"
    }
   ],
   "source": [
    "data"
   ]
  },
  {
   "cell_type": "code",
   "execution_count": 98,
   "id": "5839cf0f",
   "metadata": {},
   "outputs": [],
   "source": [
    "import json\n",
    "f = open(\"530finalprojectdata/gendered_words.json\")\n",
    "gender_dict = json.load(f)"
   ]
  },
  {
   "cell_type": "code",
   "execution_count": 100,
   "id": "c441e162",
   "metadata": {},
   "outputs": [],
   "source": [
    "gender_dict = pd.DataFrame(gender_dict).set_index('word').to_dict()['gender']"
   ]
  },
  {
   "cell_type": "code",
   "execution_count": 138,
   "id": "a9816142",
   "metadata": {},
   "outputs": [],
   "source": [
    "data['words'] = data.Lyrics.apply(lambda x: len([y for y in x.split() if y in gender_dict]))"
   ]
  },
  {
   "cell_type": "code",
   "execution_count": 139,
   "id": "7bb888e5",
   "metadata": {},
   "outputs": [],
   "source": [
    "data['male'] = data.Lyrics.apply(lambda x: len([y for y in x.split() if y in gender_dict and gender_dict[y] == 'm']))"
   ]
  },
  {
   "cell_type": "code",
   "execution_count": 140,
   "id": "1c34308c",
   "metadata": {},
   "outputs": [],
   "source": [
    "data['female'] = data.Lyrics.apply(lambda x: len([y for y in x.split() if y in gender_dict and gender_dict[y] == 'f']))"
   ]
  },
  {
   "cell_type": "code",
   "execution_count": 141,
   "id": "623927a6",
   "metadata": {},
   "outputs": [],
   "source": [
    "gender_df = data.groupby('id')[['male','female','words']].sum()"
   ]
  },
  {
   "cell_type": "code",
   "execution_count": 153,
   "id": "9ee3cb4f",
   "metadata": {},
   "outputs": [],
   "source": [
    "gender_df['male_pct'] = gender_df.apply(lambda x: x['male'] / x['words'] if x['words'] > 0 else 0,axis=1)\n",
    "gender_df['female_pct'] = gender_df.apply(lambda x: x['female'] / x['words'] if x['words'] > 0 else 0,axis=1)"
   ]
  },
  {
   "cell_type": "code",
   "execution_count": 157,
   "id": "f404b483",
   "metadata": {},
   "outputs": [
    {
     "data": {
      "text/plain": [
       "count    1001.000000\n",
       "mean        0.144830\n",
       "std         0.234537\n",
       "min         0.000000\n",
       "25%         0.000000\n",
       "50%         0.000000\n",
       "75%         0.238095\n",
       "max         1.000000\n",
       "Name: male_pct, dtype: float64"
      ]
     },
     "execution_count": 157,
     "metadata": {},
     "output_type": "execute_result"
    }
   ],
   "source": [
    "gender_df.male_pct.describe()"
   ]
  },
  {
   "cell_type": "code",
   "execution_count": 158,
   "id": "99279b96",
   "metadata": {},
   "outputs": [
    {
     "data": {
      "text/plain": [
       "count    1001.000000\n",
       "mean        0.123185\n",
       "std         0.233257\n",
       "min         0.000000\n",
       "25%         0.000000\n",
       "50%         0.000000\n",
       "75%         0.153846\n",
       "max         1.000000\n",
       "Name: female_pct, dtype: float64"
      ]
     },
     "execution_count": 158,
     "metadata": {},
     "output_type": "execute_result"
    }
   ],
   "source": [
    "gender_df.female_pct.describe()"
   ]
  },
  {
   "cell_type": "code",
   "execution_count": null,
   "id": "15d56bcb",
   "metadata": {},
   "outputs": [],
   "source": []
  }
 ],
 "metadata": {
  "kernelspec": {
   "display_name": "Python 3 (ipykernel)",
   "language": "python",
   "name": "python3"
  },
  "language_info": {
   "codemirror_mode": {
    "name": "ipython",
    "version": 3
   },
   "file_extension": ".py",
   "mimetype": "text/x-python",
   "name": "python",
   "nbconvert_exporter": "python",
   "pygments_lexer": "ipython3",
   "version": "3.11.0"
  }
 },
 "nbformat": 4,
 "nbformat_minor": 5
}
